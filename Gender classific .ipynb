{
 "cells": [
  {
   "cell_type": "markdown",
   "id": "be0a77d8",
   "metadata": {},
   "source": [
    "# Gender Classification"
   ]
  },
  {
   "cell_type": "code",
   "execution_count": 1,
   "id": "3e1a796d",
   "metadata": {},
   "outputs": [],
   "source": [
    "import torch\n",
    "import torch.nn as nn\n",
    "import torch.optim as optim\n",
    "from torch.utils.data import DataLoader\n",
    "from torchvision.datasets import ImageFolder\n",
    "from torchvision.transforms import transforms\n",
    "import torch.nn.functional as F\n",
    "from torchvision import datasets"
   ]
  },
  {
   "cell_type": "markdown",
   "id": "662087e7",
   "metadata": {},
   "source": [
    "# Model constrcution"
   ]
  },
  {
   "cell_type": "code",
   "execution_count": 39,
   "id": "3a9dcdfd",
   "metadata": {},
   "outputs": [],
   "source": [
    "class Net(torch.nn.Module):\n",
    "    def __init__(self):\n",
    "        super(Net,self).__init__()\n",
    "        self.conv1=torch.nn.Conv2d(3,16,kernel_size=3,stride=1,padding=1)\n",
    "        self.conv2=torch.nn.Conv2d(16,32,kernel_size=3,stride=1,padding=1)\n",
    "        self.pooling=torch.nn.MaxPool2d(2)\n",
    "        self.fc1=torch.nn.Linear(32*56*56,256)\n",
    "        self.fc2=torch.nn.Linear(256,2)\n",
    "    def forward(self,x):\n",
    "        batch_size=x.size(0)\n",
    "        x=F.relu(self.pooling(self.conv1(x)))\n",
    "        x=F.relu(self.pooling(self.conv2(x)))\n",
    "        x=x.view(batch_size,-1)\n",
    "        x=self.fc1(x)\n",
    "        x=self.fc2(x)\n",
    "        return x"
   ]
  },
  {
   "cell_type": "markdown",
   "id": "4a460c4b",
   "metadata": {},
   "source": [
    "# Data processing"
   ]
  },
  {
   "cell_type": "code",
   "execution_count": 40,
   "id": "fd7f6a30",
   "metadata": {},
   "outputs": [],
   "source": [
    "batch_size=64\n",
    "transform=transforms.Compose([transforms.RandomResizedCrop(224),\n",
    "                            transforms.ToTensor(),\n",
    "                            transforms.Normalize((0.5,0.5,0.5),(0.5,0.5,0.5))])\n",
    "train_dataset=datasets.ImageFolder(root='Desktop/Training',transform=transform)\n",
    "train_loader=torch.utils.data.DataLoader(train_dataset, batch_size=batch_size, shuffle=True)\n",
    "test_dataset=datasets.ImageFolder(root='Desktop/Test',transform=transform)\n",
    "test_loader=torch.utils.data.DataLoader(test_dataset,batch_size=batch_size,shuffle=False)\n",
    "train_num=len(train_dataset)"
   ]
  },
  {
   "cell_type": "markdown",
   "id": "1317911d",
   "metadata": {},
   "source": [
    "# Train Model"
   ]
  },
  {
   "cell_type": "code",
   "execution_count": 41,
   "id": "4541e908",
   "metadata": {},
   "outputs": [],
   "source": [
    "model=Net()\n",
    "device=torch.device('cuda:0' if torch.cuda.is_available() else \"cpu\")\n",
    "model.to(device)\n",
    "loss_function=nn.CrossEntropyLoss()\n",
    "optimizer=optim.Adam(model.parameters(),lr=0.0002)\n",
    "\n",
    "epochs=10\n",
    "save_path='Desktop/Net.pth'\n",
    "def train(epoch):\n",
    "    running_loss=0.0\n",
    "    for batch_idx,data in enumerate(train_loader,0):\n",
    "        inputs,target=data\n",
    "        inputs,target=inputs.to(device),target.to(device)\n",
    "        optimizer.zero_grad()\n",
    "        outputs=model(inputs)\n",
    "        loss=loss_function(outputs,target)\n",
    "        loss.backward()\n",
    "        optimizer.step()\n",
    "        running_loss+=loss.item()\n",
    "        if batch_idx%300==299:\n",
    "            print('[%d,%5d]loss:%.3f'%(epoch+1,batch_idx+1,running_loss))"
   ]
  },
  {
   "cell_type": "markdown",
   "id": "12de55f2",
   "metadata": {},
   "source": [
    "# Test Model"
   ]
  },
  {
   "cell_type": "code",
   "execution_count": 42,
   "id": "f4627579",
   "metadata": {},
   "outputs": [],
   "source": [
    "#This is test code\n",
    "def test():\n",
    "    correct=0\n",
    "    total=0\n",
    "    with torch.no_grad():\n",
    "        for data in test_loader:\n",
    "            images,labels=data\n",
    "            images,labels=images.to(device),labels.to(device)\n",
    "            outputs=model(images)\n",
    "            _,prediceted=torch.max(outputs.data,dim=1)\n",
    "            total+=labels.size(0)\n",
    "            correct+=(prediceted==labels).sum().item()\n",
    "    print('Accuracy on test set:%d %%'%(100*correct/total))"
   ]
  },
  {
   "cell_type": "markdown",
   "id": "be90b6c0",
   "metadata": {},
   "source": [
    "# Performance"
   ]
  },
  {
   "cell_type": "code",
   "execution_count": 43,
   "id": "94edba5d",
   "metadata": {},
   "outputs": [
    {
     "name": "stdout",
     "output_type": "stream",
     "text": [
      "[1,  300]loss:190.350\n",
      "[1,  600]loss:360.009\n",
      "Accuracy on test set:73 %\n",
      "[2,  300]loss:161.122\n",
      "[2,  600]loss:314.275\n",
      "Accuracy on test set:76 %\n",
      "[3,  300]loss:150.938\n",
      "[3,  600]loss:300.481\n",
      "Accuracy on test set:76 %\n",
      "[4,  300]loss:147.859\n",
      "[4,  600]loss:292.771\n",
      "Accuracy on test set:77 %\n",
      "[5,  300]loss:145.022\n",
      "[5,  600]loss:288.783\n",
      "Accuracy on test set:78 %\n",
      "[6,  300]loss:142.352\n",
      "[6,  600]loss:285.764\n",
      "Accuracy on test set:78 %\n",
      "[7,  300]loss:142.121\n",
      "[7,  600]loss:279.486\n",
      "Accuracy on test set:78 %\n",
      "[8,  300]loss:137.873\n",
      "[8,  600]loss:275.529\n",
      "Accuracy on test set:79 %\n",
      "[9,  300]loss:135.588\n",
      "[9,  600]loss:272.358\n",
      "Accuracy on test set:79 %\n",
      "[10,  300]loss:135.498\n",
      "[10,  600]loss:269.322\n",
      "Accuracy on test set:80 %\n"
     ]
    }
   ],
   "source": [
    "if __name__=='__main__':\n",
    "    for epoch in range(10):\n",
    "        train(epoch)\n",
    "        test()"
   ]
  },
  {
   "cell_type": "code",
   "execution_count": null,
   "id": "064ca185",
   "metadata": {},
   "outputs": [],
   "source": []
  }
 ],
 "metadata": {
  "kernelspec": {
   "display_name": "Python 3 (ipykernel)",
   "language": "python",
   "name": "python3"
  },
  "language_info": {
   "codemirror_mode": {
    "name": "ipython",
    "version": 3
   },
   "file_extension": ".py",
   "mimetype": "text/x-python",
   "name": "python",
   "nbconvert_exporter": "python",
   "pygments_lexer": "ipython3",
   "version": "3.9.16"
  }
 },
 "nbformat": 4,
 "nbformat_minor": 5
}
